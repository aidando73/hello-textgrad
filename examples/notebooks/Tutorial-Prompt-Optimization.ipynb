{
  "cells": [
    {
      "cell_type": "markdown",
      "metadata": {
        "id": "view-in-github",
        "colab_type": "text"
      },
      "source": [
        "<a href=\"https://colab.research.google.com/github/aidando73/hello-textgrad/blob/main/examples/notebooks/Tutorial-Prompt-Optimization.ipynb\" target=\"_parent\"><img src=\"https://colab.research.google.com/assets/colab-badge.svg\" alt=\"Open In Colab\"/></a>"
      ]
    },
    {
      "cell_type": "markdown",
      "id": "fecb2fb5-b87f-4428-8175-e3a46fe77371",
      "metadata": {
        "id": "fecb2fb5-b87f-4428-8175-e3a46fe77371"
      },
      "source": [
        "## Tutorial: Optimizing a Prompt\n",
        "\n",
        "![TextGrad](https://github.com/vinid/data/blob/master/logo_full.png?raw=true)\n",
        "\n",
        "An autograd engine -- for textual gradients!\n",
        "\n",
        "[![Open In Colab](https://colab.research.google.com/assets/colab-badge.svg)](https://colab.research.google.com/github/zou-group/TextGrad/blob/main/examples/notebooks/Prompt-Optimization.ipynb)\n",
        "[![GitHub license](https://img.shields.io/badge/License-MIT-blue.svg)](https://lbesson.mit-license.org/)\n",
        "[![Arxiv](https://img.shields.io/badge/arXiv-2406.07496-B31B1B.svg)](https://arxiv.org/abs/2406.07496)\n",
        "[![Documentation Status](https://readthedocs.org/projects/textgrad/badge/?version=latest)](https://textgrad.readthedocs.io/en/latest/?badge=latest)\n",
        "[![PyPI - Python Version](https://img.shields.io/pypi/pyversions/textgrad)](https://pypi.org/project/textgrad/)\n",
        "[![PyPI](https://img.shields.io/pypi/v/textgrad)](https://pypi.org/project/textgrad/)\n",
        "\n",
        "**Objectives:**\n",
        "\n",
        "* In this tutorial, we will run prompt optimization.\n",
        "\n",
        "**Requirements:**\n",
        "\n",
        "* You need to have an OpenAI API key to run this tutorial. This should be set as an environment variable as OPENAI_API_KEY.\n"
      ]
    },
    {
      "cell_type": "code",
      "execution_count": 14,
      "id": "7add4547-4278-411b-a827-79be521851f1",
      "metadata": {
        "ExecuteTime": {
          "end_time": "2024-06-11T19:30:34.029594610Z",
          "start_time": "2024-06-11T19:30:34.024175489Z"
        },
        "id": "7add4547-4278-411b-a827-79be521851f1",
        "outputId": "c04532d2-3e39-4c7c-8a7d-7e8c41af3770",
        "colab": {
          "base_uri": "https://localhost:8080/"
        }
      },
      "outputs": [
        {
          "output_type": "stream",
          "name": "stdout",
          "text": [
            "Requirement already satisfied: textgrad in /usr/local/lib/python3.11/dist-packages (0.1.6)\n",
            "Requirement already satisfied: openai>=1.23.6 in /usr/local/lib/python3.11/dist-packages (from textgrad) (1.66.3)\n",
            "Requirement already satisfied: tenacity>=8.2.3 in /usr/local/lib/python3.11/dist-packages (from textgrad) (9.0.0)\n",
            "Requirement already satisfied: python-dotenv>=1.0.0 in /usr/local/lib/python3.11/dist-packages (from textgrad) (1.0.1)\n",
            "Requirement already satisfied: pandas>=1.5.3 in /usr/local/lib/python3.11/dist-packages (from textgrad) (2.2.2)\n",
            "Requirement already satisfied: platformdirs>=3.11.0 in /usr/local/lib/python3.11/dist-packages (from textgrad) (4.3.6)\n",
            "Requirement already satisfied: datasets>=2.14.6 in /usr/local/lib/python3.11/dist-packages (from textgrad) (3.4.0)\n",
            "Requirement already satisfied: diskcache>=5.6.3 in /usr/local/lib/python3.11/dist-packages (from textgrad) (5.6.3)\n",
            "Requirement already satisfied: graphviz>=0.20.3 in /usr/local/lib/python3.11/dist-packages (from textgrad) (0.20.3)\n",
            "Requirement already satisfied: gdown>=5.2.0 in /usr/local/lib/python3.11/dist-packages (from textgrad) (5.2.0)\n",
            "Requirement already satisfied: litellm>=1.49.5 in /usr/local/lib/python3.11/dist-packages (from textgrad) (1.63.8)\n",
            "Requirement already satisfied: pillow in /usr/local/lib/python3.11/dist-packages (from textgrad) (11.1.0)\n",
            "Requirement already satisfied: httpx in /usr/local/lib/python3.11/dist-packages (from textgrad) (0.28.1)\n",
            "Requirement already satisfied: filelock in /usr/local/lib/python3.11/dist-packages (from datasets>=2.14.6->textgrad) (3.17.0)\n",
            "Requirement already satisfied: numpy>=1.17 in /usr/local/lib/python3.11/dist-packages (from datasets>=2.14.6->textgrad) (1.26.4)\n",
            "Requirement already satisfied: pyarrow>=15.0.0 in /usr/local/lib/python3.11/dist-packages (from datasets>=2.14.6->textgrad) (18.1.0)\n",
            "Requirement already satisfied: dill<0.3.9,>=0.3.0 in /usr/local/lib/python3.11/dist-packages (from datasets>=2.14.6->textgrad) (0.3.8)\n",
            "Requirement already satisfied: requests>=2.32.2 in /usr/local/lib/python3.11/dist-packages (from datasets>=2.14.6->textgrad) (2.32.3)\n",
            "Requirement already satisfied: tqdm>=4.66.3 in /usr/local/lib/python3.11/dist-packages (from datasets>=2.14.6->textgrad) (4.67.1)\n",
            "Requirement already satisfied: xxhash in /usr/local/lib/python3.11/dist-packages (from datasets>=2.14.6->textgrad) (3.5.0)\n",
            "Requirement already satisfied: multiprocess<0.70.17 in /usr/local/lib/python3.11/dist-packages (from datasets>=2.14.6->textgrad) (0.70.16)\n",
            "Requirement already satisfied: fsspec<=2024.12.0,>=2023.1.0 in /usr/local/lib/python3.11/dist-packages (from fsspec[http]<=2024.12.0,>=2023.1.0->datasets>=2.14.6->textgrad) (2024.10.0)\n",
            "Requirement already satisfied: aiohttp in /usr/local/lib/python3.11/dist-packages (from datasets>=2.14.6->textgrad) (3.11.13)\n",
            "Requirement already satisfied: huggingface-hub>=0.24.0 in /usr/local/lib/python3.11/dist-packages (from datasets>=2.14.6->textgrad) (0.28.1)\n",
            "Requirement already satisfied: packaging in /usr/local/lib/python3.11/dist-packages (from datasets>=2.14.6->textgrad) (24.2)\n",
            "Requirement already satisfied: pyyaml>=5.1 in /usr/local/lib/python3.11/dist-packages (from datasets>=2.14.6->textgrad) (6.0.2)\n",
            "Requirement already satisfied: beautifulsoup4 in /usr/local/lib/python3.11/dist-packages (from gdown>=5.2.0->textgrad) (4.13.3)\n",
            "Requirement already satisfied: click in /usr/local/lib/python3.11/dist-packages (from litellm>=1.49.5->textgrad) (8.1.8)\n",
            "Requirement already satisfied: importlib-metadata>=6.8.0 in /usr/local/lib/python3.11/dist-packages (from litellm>=1.49.5->textgrad) (8.6.1)\n",
            "Requirement already satisfied: jinja2<4.0.0,>=3.1.2 in /usr/local/lib/python3.11/dist-packages (from litellm>=1.49.5->textgrad) (3.1.6)\n",
            "Requirement already satisfied: jsonschema<5.0.0,>=4.22.0 in /usr/local/lib/python3.11/dist-packages (from litellm>=1.49.5->textgrad) (4.23.0)\n",
            "Requirement already satisfied: pydantic<3.0.0,>=2.0.0 in /usr/local/lib/python3.11/dist-packages (from litellm>=1.49.5->textgrad) (2.10.6)\n",
            "Requirement already satisfied: tiktoken>=0.7.0 in /usr/local/lib/python3.11/dist-packages (from litellm>=1.49.5->textgrad) (0.9.0)\n",
            "Requirement already satisfied: tokenizers in /usr/local/lib/python3.11/dist-packages (from litellm>=1.49.5->textgrad) (0.21.0)\n",
            "Requirement already satisfied: anyio in /usr/local/lib/python3.11/dist-packages (from httpx->textgrad) (3.7.1)\n",
            "Requirement already satisfied: certifi in /usr/local/lib/python3.11/dist-packages (from httpx->textgrad) (2025.1.31)\n",
            "Requirement already satisfied: httpcore==1.* in /usr/local/lib/python3.11/dist-packages (from httpx->textgrad) (1.0.7)\n",
            "Requirement already satisfied: idna in /usr/local/lib/python3.11/dist-packages (from httpx->textgrad) (3.10)\n",
            "Requirement already satisfied: h11<0.15,>=0.13 in /usr/local/lib/python3.11/dist-packages (from httpcore==1.*->httpx->textgrad) (0.14.0)\n",
            "Requirement already satisfied: distro<2,>=1.7.0 in /usr/local/lib/python3.11/dist-packages (from openai>=1.23.6->textgrad) (1.9.0)\n",
            "Requirement already satisfied: jiter<1,>=0.4.0 in /usr/local/lib/python3.11/dist-packages (from openai>=1.23.6->textgrad) (0.9.0)\n",
            "Requirement already satisfied: sniffio in /usr/local/lib/python3.11/dist-packages (from openai>=1.23.6->textgrad) (1.3.1)\n",
            "Requirement already satisfied: typing-extensions<5,>=4.11 in /usr/local/lib/python3.11/dist-packages (from openai>=1.23.6->textgrad) (4.12.2)\n",
            "Requirement already satisfied: python-dateutil>=2.8.2 in /usr/local/lib/python3.11/dist-packages (from pandas>=1.5.3->textgrad) (2.8.2)\n",
            "Requirement already satisfied: pytz>=2020.1 in /usr/local/lib/python3.11/dist-packages (from pandas>=1.5.3->textgrad) (2025.1)\n",
            "Requirement already satisfied: tzdata>=2022.7 in /usr/local/lib/python3.11/dist-packages (from pandas>=1.5.3->textgrad) (2025.1)\n",
            "Requirement already satisfied: aiohappyeyeballs>=2.3.0 in /usr/local/lib/python3.11/dist-packages (from aiohttp->datasets>=2.14.6->textgrad) (2.6.1)\n",
            "Requirement already satisfied: aiosignal>=1.1.2 in /usr/local/lib/python3.11/dist-packages (from aiohttp->datasets>=2.14.6->textgrad) (1.3.2)\n",
            "Requirement already satisfied: attrs>=17.3.0 in /usr/local/lib/python3.11/dist-packages (from aiohttp->datasets>=2.14.6->textgrad) (25.2.0)\n",
            "Requirement already satisfied: frozenlist>=1.1.1 in /usr/local/lib/python3.11/dist-packages (from aiohttp->datasets>=2.14.6->textgrad) (1.5.0)\n",
            "Requirement already satisfied: multidict<7.0,>=4.5 in /usr/local/lib/python3.11/dist-packages (from aiohttp->datasets>=2.14.6->textgrad) (6.1.0)\n",
            "Requirement already satisfied: propcache>=0.2.0 in /usr/local/lib/python3.11/dist-packages (from aiohttp->datasets>=2.14.6->textgrad) (0.3.0)\n",
            "Requirement already satisfied: yarl<2.0,>=1.17.0 in /usr/local/lib/python3.11/dist-packages (from aiohttp->datasets>=2.14.6->textgrad) (1.18.3)\n",
            "Requirement already satisfied: zipp>=3.20 in /usr/local/lib/python3.11/dist-packages (from importlib-metadata>=6.8.0->litellm>=1.49.5->textgrad) (3.21.0)\n",
            "Requirement already satisfied: MarkupSafe>=2.0 in /usr/local/lib/python3.11/dist-packages (from jinja2<4.0.0,>=3.1.2->litellm>=1.49.5->textgrad) (3.0.2)\n",
            "Requirement already satisfied: jsonschema-specifications>=2023.03.6 in /usr/local/lib/python3.11/dist-packages (from jsonschema<5.0.0,>=4.22.0->litellm>=1.49.5->textgrad) (2024.10.1)\n",
            "Requirement already satisfied: referencing>=0.28.4 in /usr/local/lib/python3.11/dist-packages (from jsonschema<5.0.0,>=4.22.0->litellm>=1.49.5->textgrad) (0.36.2)\n",
            "Requirement already satisfied: rpds-py>=0.7.1 in /usr/local/lib/python3.11/dist-packages (from jsonschema<5.0.0,>=4.22.0->litellm>=1.49.5->textgrad) (0.23.1)\n",
            "Requirement already satisfied: annotated-types>=0.6.0 in /usr/local/lib/python3.11/dist-packages (from pydantic<3.0.0,>=2.0.0->litellm>=1.49.5->textgrad) (0.7.0)\n",
            "Requirement already satisfied: pydantic-core==2.27.2 in /usr/local/lib/python3.11/dist-packages (from pydantic<3.0.0,>=2.0.0->litellm>=1.49.5->textgrad) (2.27.2)\n",
            "Requirement already satisfied: six>=1.5 in /usr/local/lib/python3.11/dist-packages (from python-dateutil>=2.8.2->pandas>=1.5.3->textgrad) (1.17.0)\n",
            "Requirement already satisfied: charset-normalizer<4,>=2 in /usr/local/lib/python3.11/dist-packages (from requests>=2.32.2->datasets>=2.14.6->textgrad) (3.4.1)\n",
            "Requirement already satisfied: urllib3<3,>=1.21.1 in /usr/local/lib/python3.11/dist-packages (from requests>=2.32.2->datasets>=2.14.6->textgrad) (2.3.0)\n",
            "Requirement already satisfied: regex>=2022.1.18 in /usr/local/lib/python3.11/dist-packages (from tiktoken>=0.7.0->litellm>=1.49.5->textgrad) (2024.11.6)\n",
            "Requirement already satisfied: soupsieve>1.2 in /usr/local/lib/python3.11/dist-packages (from beautifulsoup4->gdown>=5.2.0->textgrad) (2.6)\n",
            "Requirement already satisfied: PySocks!=1.5.7,>=1.5.6 in /usr/local/lib/python3.11/dist-packages (from requests[socks]->gdown>=5.2.0->textgrad) (1.7.1)\n"
          ]
        },
        {
          "output_type": "execute_result",
          "data": {
            "text/plain": [
              "False"
            ]
          },
          "metadata": {},
          "execution_count": 14
        }
      ],
      "source": [
        "!pip install textgrad # you might need to restart the notebook after installing textgrad\n",
        "\n",
        "import argparse\n",
        "import concurrent\n",
        "from dotenv import load_dotenv\n",
        "from tqdm import tqdm\n",
        "import textgrad as tg\n",
        "from textgrad.tasks import load_task\n",
        "import numpy as np\n",
        "import random\n",
        "load_dotenv(override=True)\n"
      ]
    },
    {
      "cell_type": "markdown",
      "id": "9a459a37-7446-4c4a-a7e0-38182b5dbd3e",
      "metadata": {
        "id": "9a459a37-7446-4c4a-a7e0-38182b5dbd3e"
      },
      "source": [
        "Let's first define some support functions"
      ]
    },
    {
      "cell_type": "code",
      "execution_count": 15,
      "id": "1ccc3b21bf9ddc48",
      "metadata": {
        "ExecuteTime": {
          "end_time": "2024-06-11T19:30:42.098338405Z",
          "start_time": "2024-06-11T19:30:42.093473103Z"
        },
        "id": "1ccc3b21bf9ddc48"
      },
      "outputs": [],
      "source": [
        "def set_seed(seed):\n",
        "    np.random.seed(seed)\n",
        "    random.seed(seed)\n",
        "\n",
        "from google.colab import userdata\n",
        "from os import environ\n",
        "environ['OPENAI_API_KEY'] = userdata.get('OPENAI_API_KEY')"
      ]
    },
    {
      "cell_type": "code",
      "execution_count": 16,
      "id": "649e06aef34d0990",
      "metadata": {
        "id": "649e06aef34d0990"
      },
      "outputs": [],
      "source": [
        "def eval_sample(item, eval_fn, model):\n",
        "    \"\"\"\n",
        "    This function allows us to evaluate if an answer to a question in the prompt is a good answer.\n",
        "\n",
        "    \"\"\"\n",
        "    x, y = item\n",
        "    x = tg.Variable(x, requires_grad=False, role_description=\"query to the language model\")\n",
        "    y = tg.Variable(int(y) if isinstance(y, np.int64) else y,\n",
        "                requires_grad=False,\n",
        "                role_description=\"correct answer for the query\")\n",
        "    response = model(x)\n",
        "    try:\n",
        "        eval_output_variable = eval_fn(inputs=dict(prediction=response, ground_truth_answer=y))\n",
        "        return int(eval_output_variable.value)\n",
        "    except:\n",
        "        eval_output_variable = eval_fn([x, y, response])\n",
        "        eval_output_parsed = eval_fn.parse_output(eval_output_variable)\n",
        "        return int(eval_output_parsed)"
      ]
    },
    {
      "cell_type": "code",
      "execution_count": 17,
      "id": "9559a31e07e54d7f",
      "metadata": {
        "id": "9559a31e07e54d7f"
      },
      "outputs": [],
      "source": [
        "def eval_dataset(test_set, eval_fn, model, max_samples: int=None):\n",
        "    if max_samples is None:\n",
        "        max_samples = len(test_set)\n",
        "    accuracy_list = []\n",
        "    with concurrent.futures.ThreadPoolExecutor(max_workers=2) as executor:\n",
        "        futures = []\n",
        "        for _, sample in enumerate(test_set):\n",
        "\n",
        "            future = executor.submit(eval_sample, sample, eval_fn, model)\n",
        "            futures.append(future)\n",
        "            if len(futures) >= max_samples:\n",
        "                break\n",
        "        tqdm_loader = tqdm(concurrent.futures.as_completed(futures), total=len(futures), position=0)\n",
        "        for future in tqdm_loader:\n",
        "            acc_item = future.result()\n",
        "            accuracy_list.append(acc_item)\n",
        "            tqdm_loader.set_description(f\"Accuracy: {np.mean(accuracy_list)}\")\n",
        "    return accuracy_list"
      ]
    },
    {
      "cell_type": "code",
      "execution_count": 18,
      "id": "4ea732b7edf34eb9",
      "metadata": {
        "id": "4ea732b7edf34eb9"
      },
      "outputs": [],
      "source": [
        "def run_validation_revert(system_prompt: tg.Variable, results, model, eval_fn, val_set):\n",
        "    val_performance = np.mean(eval_dataset(val_set, eval_fn, model))\n",
        "    previous_performance = np.mean(results[\"validation_acc\"][-1])\n",
        "    print(\"val_performance: \", val_performance)\n",
        "    print(\"previous_performance: \", previous_performance)\n",
        "    previous_prompt = results[\"prompt\"][-1]\n",
        "\n",
        "    if val_performance < previous_performance:\n",
        "        print(f\"rejected prompt: {system_prompt.value}\")\n",
        "        system_prompt.set_value(previous_prompt)\n",
        "        val_performance = previous_performance\n",
        "\n",
        "    results[\"validation_acc\"].append(val_performance)"
      ]
    },
    {
      "cell_type": "code",
      "execution_count": 19,
      "id": "e69f8431-661c-42f8-b7fc-efccea588a03",
      "metadata": {
        "id": "e69f8431-661c-42f8-b7fc-efccea588a03",
        "outputId": "5f6af937-e83f-4cd5-cbf6-6ec861f087bb",
        "colab": {
          "base_uri": "https://localhost:8080/"
        }
      },
      "outputs": [
        {
          "output_type": "stream",
          "name": "stdout",
          "text": [
            "Train/Val/Test Set Lengths:  50 100 100\n"
          ]
        }
      ],
      "source": [
        "set_seed(12)\n",
        "llm_api_eval = tg.get_engine(engine_name=\"gpt-4o\")\n",
        "llm_api_test = tg.get_engine(engine_name=\"gpt-3.5-turbo-0125\")\n",
        "tg.set_backward_engine(llm_api_eval, override=True)\n",
        "\n",
        "# Load the data and the evaluation function\n",
        "train_set, val_set, test_set, eval_fn = load_task(\"BBH_object_counting\", evaluation_api=llm_api_eval)\n",
        "print(\"Train/Val/Test Set Lengths: \", len(train_set), len(val_set), len(test_set))\n",
        "STARTING_SYSTEM_PROMPT = train_set.get_task_description()\n"
      ]
    },
    {
      "cell_type": "markdown",
      "id": "f40b576c-4ba0-4e6e-b3ed-81eb44524676",
      "metadata": {
        "id": "f40b576c-4ba0-4e6e-b3ed-81eb44524676"
      },
      "source": [
        "This is the system prompt we are going to start from:"
      ]
    },
    {
      "cell_type": "code",
      "execution_count": 20,
      "id": "d3ed3261-6f9d-4906-8c4b-a3ad570f5950",
      "metadata": {
        "id": "d3ed3261-6f9d-4906-8c4b-a3ad570f5950",
        "outputId": "70773854-78b0-4d18-b11a-e988e282d0af",
        "colab": {
          "base_uri": "https://localhost:8080/"
        }
      },
      "outputs": [
        {
          "output_type": "stream",
          "name": "stdout",
          "text": [
            "You will answer a reasoning question. Think step by step. The last line of your response should be of the following format: 'Answer: $VALUE' where VALUE is a numerical value.\n"
          ]
        }
      ],
      "source": [
        "print(STARTING_SYSTEM_PROMPT)\n"
      ]
    },
    {
      "cell_type": "code",
      "execution_count": null,
      "id": "f7544127-38e0-4c74-8632-003efcc645ee",
      "metadata": {
        "id": "f7544127-38e0-4c74-8632-003efcc645ee",
        "outputId": "91c41e26-d664-46af-8575-1fb0cc662e22",
        "colab": {
          "base_uri": "https://localhost:8080/"
        }
      },
      "outputs": [
        {
          "output_type": "stream",
          "name": "stderr",
          "text": [
            "\r  0%|          | 0/100 [00:00<?, ?it/s]INFO:textgrad:LLMCall function forward\n",
            "INFO:textgrad:StringBasedFunction\n",
            "Accuracy: 1.0:   1%|          | 1/100 [00:00<01:15,  1.30it/s]INFO:textgrad:LLMCall function forward\n",
            "INFO:textgrad:StringBasedFunction\n",
            "Accuracy: 1.0:   2%|▏         | 2/100 [00:00<00:39,  2.48it/s]INFO:textgrad:LLMCall function forward\n",
            "INFO:textgrad:StringBasedFunction\n",
            "Accuracy: 1.0:   3%|▎         | 3/100 [00:01<00:36,  2.64it/s]INFO:textgrad:LLMCall function forward\n",
            "INFO:textgrad:StringBasedFunction\n",
            "Accuracy: 1.0:   4%|▍         | 4/100 [00:01<00:47,  2.01it/s]INFO:textgrad:LLMCall function forward\n",
            "INFO:textgrad:StringBasedFunction\n",
            "Accuracy: 1.0:   5%|▌         | 5/100 [00:02<00:34,  2.75it/s]INFO:textgrad:LLMCall function forward\n",
            "INFO:textgrad:StringBasedFunction\n",
            "Accuracy: 0.8333333333333334:   6%|▌         | 6/100 [00:02<00:40,  2.32it/s]INFO:textgrad:LLMCall function forward\n",
            "INFO:textgrad:StringBasedFunction\n",
            "Accuracy: 0.7142857142857143:   7%|▋         | 7/100 [00:03<00:42,  2.20it/s]INFO:textgrad:LLMCall function forward\n",
            "INFO:textgrad:StringBasedFunction\n",
            "Accuracy: 0.75:   8%|▊         | 8/100 [00:03<00:44,  2.08it/s]INFO:textgrad:LLMCall function forward\n",
            "INFO:textgrad:StringBasedFunction\n",
            "Accuracy: 0.7777777777777778:   9%|▉         | 9/100 [00:04<00:45,  1.99it/s]INFO:textgrad:LLMCall function forward\n",
            "INFO:textgrad:StringBasedFunction\n",
            "Accuracy: 0.7:   9%|▉         | 9/100 [00:04<00:45,  1.99it/s]               INFO:textgrad:LLMCall function forward\n",
            "INFO:textgrad:StringBasedFunction\n",
            "Accuracy: 0.7272727272727273:  11%|█         | 11/100 [00:04<00:38,  2.32it/s]INFO:textgrad:LLMCall function forward\n",
            "INFO:textgrad:StringBasedFunction\n",
            "Accuracy: 0.75:  11%|█         | 11/100 [00:05<00:38,  2.32it/s]              INFO:textgrad:LLMCall function forward\n",
            "INFO:textgrad:StringBasedFunction\n",
            "Accuracy: 0.7692307692307693:  13%|█▎        | 13/100 [00:05<00:33,  2.60it/s]INFO:textgrad:LLMCall function forward\n",
            "INFO:textgrad:StringBasedFunction\n",
            "Accuracy: 0.7857142857142857:  14%|█▍        | 14/100 [00:06<00:36,  2.36it/s]INFO:textgrad:LLMCall function forward\n",
            "INFO:textgrad:StringBasedFunction\n",
            "Accuracy: 0.8:  14%|█▍        | 14/100 [00:06<00:36,  2.36it/s]               INFO:textgrad:LLMCall function forward\n",
            "INFO:textgrad:StringBasedFunction\n",
            "Accuracy: 0.8125:  16%|█▌        | 16/100 [00:06<00:30,  2.72it/s]INFO:textgrad:LLMCall function forward\n",
            "INFO:textgrad:StringBasedFunction\n",
            "Accuracy: 0.8235294117647058:  17%|█▋        | 17/100 [00:07<00:37,  2.21it/s]INFO:textgrad:LLMCall function forward\n",
            "INFO:textgrad:StringBasedFunction\n",
            "Accuracy: 0.8333333333333334:  18%|█▊        | 18/100 [00:08<00:39,  2.09it/s]INFO:textgrad:LLMCall function forward\n",
            "INFO:textgrad:StringBasedFunction\n",
            "Accuracy: 0.8421052631578947:  19%|█▉        | 19/100 [00:08<00:42,  1.91it/s]INFO:textgrad:LLMCall function forward\n",
            "INFO:textgrad:StringBasedFunction\n",
            "Accuracy: 0.85:  20%|██        | 20/100 [00:09<00:52,  1.52it/s]INFO:textgrad:LLMCall function forward\n",
            "INFO:textgrad:StringBasedFunction\n",
            "Accuracy: 0.8571428571428571:  21%|██        | 21/100 [00:10<00:47,  1.65it/s]INFO:textgrad:LLMCall function forward\n",
            "INFO:textgrad:StringBasedFunction\n",
            "Accuracy: 0.8636363636363636:  22%|██▏       | 22/100 [00:10<00:51,  1.51it/s]INFO:textgrad:LLMCall function forward\n",
            "INFO:textgrad:StringBasedFunction\n",
            "Accuracy: 0.8695652173913043:  23%|██▎       | 23/100 [00:11<00:40,  1.91it/s]INFO:textgrad:LLMCall function forward\n",
            "INFO:textgrad:StringBasedFunction\n",
            "Accuracy: 0.8333333333333334:  24%|██▍       | 24/100 [00:11<00:36,  2.08it/s]INFO:textgrad:LLMCall function forward\n",
            "INFO:textgrad:StringBasedFunction\n",
            "Accuracy: 0.84:  25%|██▌       | 25/100 [00:12<00:37,  2.01it/s]INFO:textgrad:LLMCall function forward\n",
            "INFO:textgrad:StringBasedFunction\n",
            "Accuracy: 0.8076923076923077:  26%|██▌       | 26/100 [00:12<00:31,  2.32it/s]INFO:textgrad:LLMCall function forward\n",
            "INFO:textgrad:StringBasedFunction\n",
            "Accuracy: 0.8148148148148148:  27%|██▋       | 27/100 [00:12<00:26,  2.75it/s]INFO:textgrad:LLMCall function forward\n",
            "INFO:textgrad:StringBasedFunction\n",
            "Accuracy: 0.8214285714285714:  28%|██▊       | 28/100 [00:13<00:29,  2.47it/s]INFO:textgrad:LLMCall function forward\n",
            "INFO:textgrad:StringBasedFunction\n",
            "Accuracy: 0.8275862068965517:  29%|██▉       | 29/100 [00:13<00:22,  3.16it/s]INFO:textgrad:LLMCall function forward\n",
            "INFO:textgrad:StringBasedFunction\n",
            "Accuracy: 0.8333333333333334:  30%|███       | 30/100 [00:13<00:26,  2.66it/s]INFO:textgrad:LLMCall function forward\n",
            "INFO:textgrad:StringBasedFunction\n",
            "Accuracy: 0.8387096774193549:  31%|███       | 31/100 [00:14<00:28,  2.44it/s]INFO:textgrad:LLMCall function forward\n",
            "INFO:textgrad:StringBasedFunction\n",
            "Accuracy: 0.84375:  32%|███▏      | 32/100 [00:14<00:24,  2.82it/s]INFO:textgrad:LLMCall function forward\n",
            "INFO:textgrad:StringBasedFunction\n",
            "Accuracy: 0.8484848484848485:  33%|███▎      | 33/100 [00:14<00:21,  3.10it/s]INFO:textgrad:LLMCall function forward\n",
            "INFO:textgrad:StringBasedFunction\n",
            "Accuracy: 0.8529411764705882:  34%|███▍      | 34/100 [00:15<00:27,  2.39it/s]INFO:textgrad:LLMCall function forward\n",
            "INFO:textgrad:StringBasedFunction\n",
            "Accuracy: 0.8571428571428571:  35%|███▌      | 35/100 [00:15<00:21,  3.05it/s]INFO:textgrad:LLMCall function forward\n",
            "INFO:textgrad:StringBasedFunction\n",
            "Accuracy: 0.8611111111111112:  36%|███▌      | 36/100 [00:16<00:31,  2.00it/s]INFO:textgrad:LLMCall function forward\n",
            "INFO:textgrad:StringBasedFunction\n",
            "Accuracy: 0.8648648648648649:  37%|███▋      | 37/100 [00:16<00:29,  2.17it/s]INFO:textgrad:LLMCall function forward\n",
            "INFO:textgrad:StringBasedFunction\n",
            "Accuracy: 0.868421052631579:  38%|███▊      | 38/100 [00:16<00:25,  2.40it/s]INFO:textgrad:LLMCall function forward\n",
            "INFO:textgrad:StringBasedFunction\n",
            "Accuracy: 0.8717948717948718:  39%|███▉      | 39/100 [00:17<00:19,  3.06it/s]INFO:textgrad:LLMCall function forward\n",
            "INFO:textgrad:StringBasedFunction\n",
            "Accuracy: 0.875:  40%|████      | 40/100 [00:17<00:25,  2.32it/s]INFO:textgrad:LLMCall function forward\n",
            "INFO:textgrad:StringBasedFunction\n",
            "Accuracy: 0.8536585365853658:  40%|████      | 40/100 [00:17<00:25,  2.32it/s]INFO:textgrad:LLMCall function forward\n",
            "INFO:textgrad:StringBasedFunction\n",
            "Accuracy: 0.8333333333333334:  42%|████▏     | 42/100 [00:18<00:23,  2.48it/s]INFO:textgrad:LLMCall function forward\n",
            "INFO:textgrad:StringBasedFunction\n",
            "Accuracy: 0.8372093023255814:  43%|████▎     | 43/100 [00:18<00:19,  3.00it/s]INFO:textgrad:LLMCall function forward\n",
            "INFO:textgrad:StringBasedFunction\n",
            "Accuracy: 0.8409090909090909:  44%|████▍     | 44/100 [00:20<00:36,  1.54it/s]INFO:textgrad:LLMCall function forward\n",
            "INFO:textgrad:StringBasedFunction\n",
            "Accuracy: 0.8444444444444444:  45%|████▌     | 45/100 [00:21<00:42,  1.31it/s]INFO:textgrad:LLMCall function forward\n",
            "INFO:textgrad:StringBasedFunction\n",
            "Accuracy: 0.8478260869565217:  46%|████▌     | 46/100 [00:21<00:36,  1.47it/s]INFO:textgrad:LLMCall function forward\n",
            "INFO:textgrad:StringBasedFunction\n",
            "Accuracy: 0.851063829787234:  46%|████▌     | 46/100 [00:21<00:36,  1.47it/s] INFO:textgrad:LLMCall function forward\n",
            "INFO:textgrad:StringBasedFunction\n",
            "Accuracy: 0.8541666666666666:  48%|████▊     | 48/100 [00:22<00:32,  1.60it/s]INFO:textgrad:LLMCall function forward\n",
            "INFO:textgrad:StringBasedFunction\n",
            "Accuracy: 0.8571428571428571:  49%|████▉     | 49/100 [00:23<00:30,  1.68it/s]INFO:textgrad:LLMCall function forward\n",
            "INFO:textgrad:StringBasedFunction\n",
            "Accuracy: 0.84:  50%|█████     | 50/100 [00:23<00:24,  2.03it/s]INFO:textgrad:LLMCall function forward\n",
            "INFO:textgrad:StringBasedFunction\n",
            "Accuracy: 0.8431372549019608:  51%|█████     | 51/100 [00:23<00:20,  2.43it/s]INFO:textgrad:LLMCall function forward\n",
            "INFO:textgrad:StringBasedFunction\n",
            "Accuracy: 0.8461538461538461:  52%|█████▏    | 52/100 [00:23<00:17,  2.74it/s]INFO:textgrad:LLMCall function forward\n",
            "INFO:textgrad:StringBasedFunction\n",
            "Accuracy: 0.8490566037735849:  53%|█████▎    | 53/100 [00:24<00:19,  2.47it/s]INFO:textgrad:LLMCall function forward\n",
            "INFO:textgrad:StringBasedFunction\n",
            "Accuracy: 0.8518518518518519:  54%|█████▍    | 54/100 [00:25<00:21,  2.18it/s]INFO:textgrad:LLMCall function forward\n",
            "INFO:textgrad:StringBasedFunction\n",
            "Accuracy: 0.8363636363636363:  55%|█████▌    | 55/100 [00:25<00:17,  2.50it/s]INFO:textgrad:LLMCall function forward\n",
            "INFO:textgrad:StringBasedFunction\n",
            "Accuracy: 0.8392857142857143:  56%|█████▌    | 56/100 [00:25<00:17,  2.53it/s]INFO:textgrad:LLMCall function forward\n",
            "INFO:textgrad:StringBasedFunction\n",
            "Accuracy: 0.8421052631578947:  57%|█████▋    | 57/100 [00:26<00:17,  2.45it/s]INFO:textgrad:LLMCall function forward\n",
            "INFO:textgrad:StringBasedFunction\n",
            "Accuracy: 0.8275862068965517:  58%|█████▊    | 58/100 [00:26<00:14,  2.96it/s]INFO:textgrad:LLMCall function forward\n",
            "INFO:textgrad:StringBasedFunction\n",
            "Accuracy: 0.8135593220338984:  59%|█████▉    | 59/100 [00:27<00:21,  1.95it/s]INFO:textgrad:LLMCall function forward\n",
            "INFO:textgrad:StringBasedFunction\n",
            "Accuracy: 0.8166666666666667:  60%|██████    | 60/100 [00:27<00:19,  2.02it/s]INFO:textgrad:LLMCall function forward\n",
            "INFO:textgrad:StringBasedFunction\n",
            "Accuracy: 0.8032786885245902:  61%|██████    | 61/100 [00:28<00:22,  1.72it/s]INFO:textgrad:LLMCall function forward\n",
            "INFO:textgrad:StringBasedFunction\n",
            "Accuracy: 0.8064516129032258:  62%|██████▏   | 62/100 [00:29<00:27,  1.40it/s]INFO:textgrad:LLMCall function forward\n",
            "INFO:textgrad:StringBasedFunction\n",
            "Accuracy: 0.8095238095238095:  63%|██████▎   | 63/100 [00:29<00:23,  1.58it/s]INFO:textgrad:LLMCall function forward\n",
            "INFO:textgrad:StringBasedFunction\n",
            "Accuracy: 0.8125:  64%|██████▍   | 64/100 [00:30<00:22,  1.63it/s]INFO:textgrad:LLMCall function forward\n",
            "INFO:textgrad:StringBasedFunction\n",
            "Accuracy: 0.8153846153846154:  65%|██████▌   | 65/100 [00:30<00:20,  1.71it/s]INFO:textgrad:LLMCall function forward\n",
            "INFO:textgrad:StringBasedFunction\n",
            "Accuracy: 0.803030303030303:  65%|██████▌   | 65/100 [00:31<00:20,  1.71it/s] INFO:textgrad:LLMCall function forward\n",
            "INFO:textgrad:StringBasedFunction\n",
            "Accuracy: 0.8059701492537313:  67%|██████▋   | 67/100 [00:31<00:15,  2.12it/s]INFO:textgrad:LLMCall function forward\n",
            "INFO:textgrad:StringBasedFunction\n",
            "Accuracy: 0.7941176470588235:  68%|██████▊   | 68/100 [00:31<00:12,  2.48it/s]INFO:textgrad:LLMCall function forward\n",
            "INFO:textgrad:StringBasedFunction\n",
            "Accuracy: 0.782608695652174:  69%|██████▉   | 69/100 [00:32<00:14,  2.12it/s]INFO:textgrad:LLMCall function forward\n",
            "INFO:textgrad:StringBasedFunction\n",
            "Accuracy: 0.7714285714285715:  69%|██████▉   | 69/100 [00:32<00:14,  2.12it/s]INFO:textgrad:LLMCall function forward\n",
            "INFO:textgrad:StringBasedFunction\n",
            "Accuracy: 0.7746478873239436:  71%|███████   | 71/100 [00:33<00:12,  2.38it/s]INFO:textgrad:LLMCall function forward\n",
            "INFO:textgrad:StringBasedFunction\n",
            "Accuracy: 0.7777777777777778:  72%|███████▏  | 72/100 [00:33<00:10,  2.57it/s]INFO:textgrad:LLMCall function forward\n",
            "INFO:textgrad:StringBasedFunction\n",
            "Accuracy: 0.7671232876712328:  73%|███████▎  | 73/100 [00:33<00:09,  2.86it/s]INFO:textgrad:LLMCall function forward\n",
            "INFO:textgrad:StringBasedFunction\n",
            "Accuracy: 0.7702702702702703:  74%|███████▍  | 74/100 [00:34<00:09,  2.60it/s]INFO:textgrad:LLMCall function forward\n",
            "INFO:textgrad:StringBasedFunction\n",
            "Accuracy: 0.7733333333333333:  75%|███████▌  | 75/100 [00:34<00:10,  2.32it/s]INFO:textgrad:LLMCall function forward\n",
            "INFO:textgrad:StringBasedFunction\n",
            "Accuracy: 0.7631578947368421:  75%|███████▌  | 75/100 [00:34<00:10,  2.32it/s]"
          ]
        }
      ],
      "source": [
        "train_loader = tg.tasks.DataLoader(train_set, batch_size=3, shuffle=True)\n",
        "\n",
        "\n",
        "# Testing the 0-shot performance of the evaluation engine\n",
        "system_prompt = tg.Variable(STARTING_SYSTEM_PROMPT,\n",
        "                            requires_grad=True,\n",
        "                            role_description=\"system prompt to the language model\")\n",
        "model_evaluation = tg.BlackboxLLM(llm_api_eval, system_prompt)\n",
        "\n",
        "system_prompt = tg.Variable(STARTING_SYSTEM_PROMPT,\n",
        "                            requires_grad=True,\n",
        "                            role_description=\"structured system prompt to a somewhat capable language model that specifies the behavior and strategies for the QA task\")\n",
        "model = tg.BlackboxLLM(llm_api_test, system_prompt)\n",
        "\n",
        "optimizer = tg.TextualGradientDescent(engine=llm_api_eval, parameters=[system_prompt])\n",
        "\n",
        "results = {\"test_acc\": [], \"prompt\": [], \"validation_acc\": []}\n",
        "results[\"test_acc\"].append(eval_dataset(test_set, eval_fn, model))\n",
        "results[\"validation_acc\"].append(eval_dataset(val_set, eval_fn, model))\n",
        "results[\"prompt\"].append(system_prompt.get_value())\n"
      ]
    },
    {
      "cell_type": "code",
      "execution_count": null,
      "id": "b3807736-1d81-4349-95db-257c20110d1a",
      "metadata": {
        "id": "b3807736-1d81-4349-95db-257c20110d1a",
        "outputId": "f91a2484-55ff-4392-bf19-140324c50167"
      },
      "outputs": [
        {
          "name": "stderr",
          "output_type": "stream",
          "text": [
            "Accuracy: 0.5542168674698795: 100%|██████████████████████████████████████████████████████████████████████████████████████████████| 83/83 [00:21<00:00,  3.94it/s]\n"
          ]
        },
        {
          "name": "stdout",
          "output_type": "stream",
          "text": [
            "val_performance:  0.5542168674698795\n",
            "previous_performance:  0.6867469879518072\n",
            "rejected prompt: You will answer a reasoning question. Provide the final numerical answer directly. Your response should be a single numerical value. Do not include any explanation or additional text, only the numerical answer.\n",
            "sys prompt:  You will answer a reasoning question. Think step by step. The last line of your response should be of the following format: 'Answer: $VALUE' where VALUE is a numerical value.\n"
          ]
        },
        {
          "name": "stderr",
          "output_type": "stream",
          "text": [
            "Accuracy: 0.7142857142857143: 100%|████████████████████████████████████████████████████████████████████████████████████████████| 84/84 [00:00<00:00, 1201.24it/s]\n",
            "Accuracy: 0.8313253012048193: 100%|██████████████████████████████████████████████████████████████████████████████████████████████| 83/83 [00:43<00:00,  1.91it/s]\n"
          ]
        },
        {
          "name": "stdout",
          "output_type": "stream",
          "text": [
            "val_performance:  0.8313253012048193\n",
            "previous_performance:  0.6867469879518072\n",
            "sys prompt:  You will answer a reasoning question that involves counting items in a list. Think step by step, but provide a concise summary of your reasoning. Ensure you understand the context of the question and focus on counting the items accurately. List each item you count and then verify the total number. Avoid adding any extra information or context that is not directly related to the total count. The last line of your response should be of the following format: 'Answer: $VALUE' where VALUE is a numerical value. Ensure the final line contains only the answer in the required format.\n"
          ]
        },
        {
          "name": "stderr",
          "output_type": "stream",
          "text": [
            "Accuracy: 0.8214285714285714: 100%|██████████████████████████████████████████████████████████████████████████████████████████████| 84/84 [00:43<00:00,  1.94it/s]\n",
            "Accuracy: 0.5542168674698795: 100%|██████████████████████████████████████████████████████████████████████████████████████████████| 83/83 [00:46<00:00,  1.80it/s]\n"
          ]
        },
        {
          "name": "stdout",
          "output_type": "stream",
          "text": [
            "val_performance:  0.5542168674698795\n",
            "previous_performance:  0.8313253012048193\n",
            "rejected prompt: You will answer a reasoning question that involves counting items in a list. Think step by step, but provide a concise summary of your reasoning. Ensure you understand the context of the question and focus on counting the items accurately. \n",
            "\n",
            "1. Restate the question to ensure clarity.\n",
            "2. List each item you count on a new line using bullet points for clarity. If there are multiple items of the same type, list them together and indicate the quantity.\n",
            "3. Ensure the numbering and items in the list are consistent and free from typographical errors.\n",
            "4. After listing all items, count the total number of items and provide the final count in the specified format.\n",
            "5. Verify the total number by cross-checking with the list.\n",
            "6. If there are potential errors or ambiguities in the list, acknowledge them and request additional details if necessary.\n",
            "\n",
            "The last line of your response should be of the following format: 'Answer: $VALUE' where VALUE is a numerical value. Ensure the final line contains only the answer in the required format.\n",
            "sys prompt:  You will answer a reasoning question that involves counting items in a list. Think step by step, but provide a concise summary of your reasoning. Ensure you understand the context of the question and focus on counting the items accurately. List each item you count and then verify the total number. Avoid adding any extra information or context that is not directly related to the total count. The last line of your response should be of the following format: 'Answer: $VALUE' where VALUE is a numerical value. Ensure the final line contains only the answer in the required format.\n"
          ]
        },
        {
          "name": "stderr",
          "output_type": "stream",
          "text": [
            "Accuracy: 0.8214285714285714: 100%|████████████████████████████████████████████████████████████████████████████████████████████| 84/84 [00:00<00:00, 1638.96it/s]\n",
            "Accuracy: 0.6867469879518072: 100%|██████████████████████████████████████████████████████████████████████████████████████████████| 83/83 [00:18<00:00,  4.43it/s]\n"
          ]
        },
        {
          "name": "stdout",
          "output_type": "stream",
          "text": [
            "val_performance:  0.6867469879518072\n",
            "previous_performance:  0.8313253012048193\n",
            "rejected prompt: You will answer a reasoning question that involves counting items in a list. Directly compute the total number of items and provide the final count. Ensure you understand the context of the question and focus on counting the items accurately. Avoid adding any extra information or context that is not directly related to the total count. Ensure your response follows the format 'Answer: $VALUE' with no additional text. If the input contains unexpected characters or is malformed, correct the input and provide a coherent response. Ensure the final line contains only the answer in the required format.\n",
            "sys prompt:  You will answer a reasoning question that involves counting items in a list. Think step by step, but provide a concise summary of your reasoning. Ensure you understand the context of the question and focus on counting the items accurately. List each item you count and then verify the total number. Avoid adding any extra information or context that is not directly related to the total count. The last line of your response should be of the following format: 'Answer: $VALUE' where VALUE is a numerical value. Ensure the final line contains only the answer in the required format.\n"
          ]
        },
        {
          "name": "stderr",
          "output_type": "stream",
          "text": [
            "Accuracy: 0.8214285714285714: 100%|████████████████████████████████████████████████████████████████████████████████████████████| 84/84 [00:00<00:00, 1043.66it/s]\n",
            "Training step 3. Epoch 0: : 3it [07:29, 149.70s/it]\n",
            "Accuracy: 0.4819277108433735: 100%|██████████████████████████████████████████████████████████████████████████████████████████████| 83/83 [00:34<00:00,  2.44it/s]\n"
          ]
        },
        {
          "name": "stdout",
          "output_type": "stream",
          "text": [
            "val_performance:  0.4819277108433735\n",
            "previous_performance:  0.8313253012048193\n",
            "rejected prompt: Answer a reasoning question that involves counting items in a list. Focus on counting only the items relevant to the question. Directly provide the total count without listing each item. Ensure the final line contains only the answer in the format 'Answer: $VALUE' where VALUE is a numerical value. Double-check your count for accuracy before providing the final number. If you encounter any ambiguous items or quantities, make a note of them and proceed with the calculation based on the clear items.\n",
            "sys prompt:  You will answer a reasoning question that involves counting items in a list. Think step by step, but provide a concise summary of your reasoning. Ensure you understand the context of the question and focus on counting the items accurately. List each item you count and then verify the total number. Avoid adding any extra information or context that is not directly related to the total count. The last line of your response should be of the following format: 'Answer: $VALUE' where VALUE is a numerical value. Ensure the final line contains only the answer in the required format.\n"
          ]
        },
        {
          "name": "stderr",
          "output_type": "stream",
          "text": [
            "Accuracy: 0.8214285714285714: 100%|████████████████████████████████████████████████████████████████████████████████████████████| 84/84 [00:00<00:00, 1660.49it/s]\n",
            "Accuracy: 0.3132530120481928: 100%|██████████████████████████████████████████████████████████████████████████████████████████████| 83/83 [00:16<00:00,  5.03it/s]\n"
          ]
        },
        {
          "name": "stdout",
          "output_type": "stream",
          "text": [
            "val_performance:  0.3132530120481928\n",
            "previous_performance:  0.8313253012048193\n",
            "rejected prompt: You will answer a reasoning question that involves counting items in a list. Ensure you understand the context of the question, such as identifying specific categories of items (e.g., vegetables) before counting. Count the items and provide the total number. Be cautious of items that might be similar or easily confused, and ensure you are counting the correct items based on the context. If the query is ambiguous or could be interpreted in multiple ways, provide a brief explanation of your reasoning or ask for clarification. Ensure the response is a single numerical value without any additional text or formatting.\n",
            "sys prompt:  You will answer a reasoning question that involves counting items in a list. Think step by step, but provide a concise summary of your reasoning. Ensure you understand the context of the question and focus on counting the items accurately. List each item you count and then verify the total number. Avoid adding any extra information or context that is not directly related to the total count. The last line of your response should be of the following format: 'Answer: $VALUE' where VALUE is a numerical value. Ensure the final line contains only the answer in the required format.\n"
          ]
        },
        {
          "name": "stderr",
          "output_type": "stream",
          "text": [
            "Accuracy: 0.8214285714285714: 100%|████████████████████████████████████████████████████████████████████████████████████████████| 84/84 [00:00<00:00, 1674.21it/s]\n",
            "Accuracy: 0.891566265060241: 100%|███████████████████████████████████████████████████████████████████████████████████████████████| 83/83 [01:00<00:00,  1.36it/s]\n"
          ]
        },
        {
          "name": "stdout",
          "output_type": "stream",
          "text": [
            "val_performance:  0.891566265060241\n",
            "previous_performance:  0.8313253012048193\n",
            "sys prompt:  You will answer a reasoning question that involves counting items in a list. Think step by step, but provide a concise summary of your reasoning. Ensure you understand the context of each item and its relevance to the total count. Use bullet points or numbering with periods for listing items. Maintain consistent naming conventions for similar items (e.g., Bed 1, Bed 2). If there is any ambiguity, provide reasoning for your choice or ask a clarifying question. After listing the items, verify the total count to ensure accuracy. The last line of your response should be of the following format: 'Answer: $VALUE' where VALUE is a numerical value. Ensure the final line contains only the answer in the required format.\n"
          ]
        },
        {
          "name": "stderr",
          "output_type": "stream",
          "text": [
            "Accuracy: 0.8571428571428571: 100%|██████████████████████████████████████████████████████████████████████████████████████████████| 84/84 [01:00<00:00,  1.38it/s]\n",
            "Accuracy: 0.8313253012048193: 100%|██████████████████████████████████████████████████████████████████████████████████████████████| 83/83 [00:43<00:00,  1.89it/s]\n"
          ]
        },
        {
          "name": "stdout",
          "output_type": "stream",
          "text": [
            "val_performance:  0.8313253012048193\n",
            "previous_performance:  0.891566265060241\n",
            "rejected prompt: You will answer a reasoning question that involves counting items in a list. Think step by step, but provide a concise summary of your reasoning. Ensure you understand the context of each item and its relevance to the total count. Use bullet points with a hyphen (-) for each item. Maintain consistent naming conventions for similar items (e.g., Bed 1, Bed 2). If there is any ambiguity, provide reasoning for your choice or ask a clarifying question. After listing the items, state the total number of items in the format: 'The total number of items listed is X.' Ensure the final line contains only the answer in the required format: 'Answer: $VALUE' where VALUE is a numerical value. Double-check your arithmetic to ensure the sum of the counts is correct.\n",
            "sys prompt:  You will answer a reasoning question that involves counting items in a list. Think step by step, but provide a concise summary of your reasoning. Ensure you understand the context of each item and its relevance to the total count. Use bullet points or numbering with periods for listing items. Maintain consistent naming conventions for similar items (e.g., Bed 1, Bed 2). If there is any ambiguity, provide reasoning for your choice or ask a clarifying question. After listing the items, verify the total count to ensure accuracy. The last line of your response should be of the following format: 'Answer: $VALUE' where VALUE is a numerical value. Ensure the final line contains only the answer in the required format.\n"
          ]
        },
        {
          "name": "stderr",
          "output_type": "stream",
          "text": [
            "Accuracy: 0.8571428571428571: 100%|████████████████████████████████████████████████████████████████████████████████████████████| 84/84 [00:00<00:00, 1432.86it/s]\n",
            "Training step 3. Epoch 1: : 3it [08:16, 165.36s/it]\n",
            "Accuracy: 0.6144578313253012: 100%|██████████████████████████████████████████████████████████████████████████████████████████████| 83/83 [00:18<00:00,  4.50it/s]\n"
          ]
        },
        {
          "name": "stdout",
          "output_type": "stream",
          "text": [
            "val_performance:  0.6144578313253012\n",
            "previous_performance:  0.891566265060241\n",
            "rejected prompt: You will answer a reasoning question that involves counting items in a list. Provide only the final count of items without listing intermediate steps. Ensure you understand the context of each item and its relevance to the total count. If there is any ambiguity, ask a clarifying question. Present the numerical value clearly and directly, without any surrounding text or context. Ensure the final answer is a single numerical value without any additional text. Do not repeat the final answer; provide it only once in the specified format. Avoid using ellipses, parentheses, or any other punctuation that could complicate the response. The last line of your response should be of the following format: 'Answer: $VALUE' where VALUE is a numerical value. Ensure the final line contains only the answer in the required format.\n",
            "sys prompt:  You will answer a reasoning question that involves counting items in a list. Think step by step, but provide a concise summary of your reasoning. Ensure you understand the context of each item and its relevance to the total count. Use bullet points or numbering with periods for listing items. Maintain consistent naming conventions for similar items (e.g., Bed 1, Bed 2). If there is any ambiguity, provide reasoning for your choice or ask a clarifying question. After listing the items, verify the total count to ensure accuracy. The last line of your response should be of the following format: 'Answer: $VALUE' where VALUE is a numerical value. Ensure the final line contains only the answer in the required format.\n"
          ]
        },
        {
          "name": "stderr",
          "output_type": "stream",
          "text": [
            "Accuracy: 0.8571428571428571: 100%|████████████████████████████████████████████████████████████████████████████████████████████| 84/84 [00:00<00:00, 1608.54it/s]\n",
            "Accuracy: 0.5301204819277109: 100%|██████████████████████████████████████████████████████████████████████████████████████████████| 83/83 [00:16<00:00,  5.10it/s]\n"
          ]
        },
        {
          "name": "stdout",
          "output_type": "stream",
          "text": [
            "val_performance:  0.5301204819277109\n",
            "previous_performance:  0.891566265060241\n",
            "rejected prompt: Count the items and provide the total number as a single integer. Do not include any additional text, explanations, or lists in your response. Ensure the answer is a numerical value only.\n",
            "sys prompt:  You will answer a reasoning question that involves counting items in a list. Think step by step, but provide a concise summary of your reasoning. Ensure you understand the context of each item and its relevance to the total count. Use bullet points or numbering with periods for listing items. Maintain consistent naming conventions for similar items (e.g., Bed 1, Bed 2). If there is any ambiguity, provide reasoning for your choice or ask a clarifying question. After listing the items, verify the total count to ensure accuracy. The last line of your response should be of the following format: 'Answer: $VALUE' where VALUE is a numerical value. Ensure the final line contains only the answer in the required format.\n"
          ]
        },
        {
          "name": "stderr",
          "output_type": "stream",
          "text": [
            "Accuracy: 0.8571428571428571: 100%|████████████████████████████████████████████████████████████████████████████████████████████| 84/84 [00:00<00:00, 1517.28it/s]\n",
            "Accuracy: 0.8433734939759037: 100%|██████████████████████████████████████████████████████████████████████████████████████████████| 83/83 [01:20<00:00,  1.03it/s]\n"
          ]
        },
        {
          "name": "stdout",
          "output_type": "stream",
          "text": [
            "val_performance:  0.8433734939759037\n",
            "previous_performance:  0.891566265060241\n",
            "rejected prompt: You will answer a reasoning question that involves counting items in a list. Think step by step, but provide a concise summary of your reasoning. Ensure you understand the context of each item and its relevance to the total count. Use bullet points or numbering with periods for listing items. Maintain consistent naming conventions for similar items (e.g., Bed 1, Bed 2). Ensure that the numbering is sequential and does not skip any numbers. Avoid using ellipses or incomplete names; list each item explicitly. If there is any ambiguity, provide reasoning for your choice or ask a clarifying question. Ensure that each item listed is distinct and not a duplicate. After listing the items, count them explicitly and verify that the total matches the number of distinct items listed. Explicitly show all mathematical operations in your reasoning. For example, if you are adding quantities, write out the full addition process. Before providing the final answer, double-check that the total count is accurate and matches the items listed. The last line of your response should be of the following format: 'Answer: $VALUE' where VALUE is a numerical value. Ensure the final line contains only the answer in the required format.\n",
            "sys prompt:  You will answer a reasoning question that involves counting items in a list. Think step by step, but provide a concise summary of your reasoning. Ensure you understand the context of each item and its relevance to the total count. Use bullet points or numbering with periods for listing items. Maintain consistent naming conventions for similar items (e.g., Bed 1, Bed 2). If there is any ambiguity, provide reasoning for your choice or ask a clarifying question. After listing the items, verify the total count to ensure accuracy. The last line of your response should be of the following format: 'Answer: $VALUE' where VALUE is a numerical value. Ensure the final line contains only the answer in the required format.\n"
          ]
        },
        {
          "name": "stderr",
          "output_type": "stream",
          "text": [
            "Accuracy: 0.8571428571428571: 100%|████████████████████████████████████████████████████████████████████████████████████████████| 84/84 [00:00<00:00, 1705.01it/s]\n",
            "Accuracy: 0.7710843373493976: 100%|██████████████████████████████████████████████████████████████████████████████████████████████| 83/83 [00:27<00:00,  3.07it/s]\n"
          ]
        },
        {
          "name": "stdout",
          "output_type": "stream",
          "text": [
            "val_performance:  0.7710843373493976\n",
            "previous_performance:  0.891566265060241\n",
            "rejected prompt: You will answer a reasoning question that involves counting items in a list. Provide a concise answer without detailed explanations. List each item clearly and sequentially without using bullet points or numbering. Use consistent naming conventions for similar items (e.g., Bed 1, Bed 2). If there is any ambiguity, make a reasonable assumption and provide the answer directly. Ensure the final line contains only the answer in the following format: 'Answer: $VALUE' where VALUE is a numerical value.\n",
            "sys prompt:  You will answer a reasoning question that involves counting items in a list. Think step by step, but provide a concise summary of your reasoning. Ensure you understand the context of each item and its relevance to the total count. Use bullet points or numbering with periods for listing items. Maintain consistent naming conventions for similar items (e.g., Bed 1, Bed 2). If there is any ambiguity, provide reasoning for your choice or ask a clarifying question. After listing the items, verify the total count to ensure accuracy. The last line of your response should be of the following format: 'Answer: $VALUE' where VALUE is a numerical value. Ensure the final line contains only the answer in the required format.\n"
          ]
        },
        {
          "name": "stderr",
          "output_type": "stream",
          "text": [
            "Accuracy: 0.8571428571428571: 100%|████████████████████████████████████████████████████████████████████████████████████████████| 84/84 [00:00<00:00, 1062.32it/s]\n",
            "Training step 3. Epoch 2: : 3it [07:08, 142.76s/it]\n"
          ]
        }
      ],
      "source": [
        "for epoch in range(3):\n",
        "    for steps, (batch_x, batch_y) in enumerate((pbar := tqdm(train_loader, position=0))):\n",
        "        pbar.set_description(f\"Training step {steps}. Epoch {epoch}\")\n",
        "        optimizer.zero_grad()\n",
        "        losses = []\n",
        "        for (x, y) in zip(batch_x, batch_y):\n",
        "            x = tg.Variable(x, requires_grad=False, role_description=\"query to the language model\")\n",
        "            y = tg.Variable(int(y) if isinstance(y, np.int64) else y,\n",
        "                requires_grad=False,\n",
        "                role_description=\"correct answer for the query\")\n",
        "            response = model(x)\n",
        "            try:\n",
        "                eval_output_variable = eval_fn(inputs=dict(prediction=response, ground_truth_answer=y))\n",
        "            except:\n",
        "                eval_output_variable = eval_fn([x, y, response])\n",
        "            losses.append(eval_output_variable)\n",
        "        total_loss = tg.sum(losses)\n",
        "        total_loss.backward()\n",
        "        optimizer.step()\n",
        "\n",
        "        run_validation_revert(system_prompt, results, model, eval_fn, val_set)\n",
        "\n",
        "        print(\"sys prompt: \", system_prompt)\n",
        "        test_acc = eval_dataset(test_set, eval_fn, model)\n",
        "        results[\"test_acc\"].append(test_acc)\n",
        "        results[\"prompt\"].append(system_prompt.get_value())\n",
        "        if steps == 3:\n",
        "            break"
      ]
    },
    {
      "cell_type": "code",
      "execution_count": null,
      "id": "7dab7a53-e682-478e-9417-15009b495979",
      "metadata": {
        "id": "7dab7a53-e682-478e-9417-15009b495979"
      },
      "outputs": [],
      "source": []
    }
  ],
  "metadata": {
    "kernelspec": {
      "display_name": "Python 3 (ipykernel)",
      "language": "python",
      "name": "python3"
    },
    "language_info": {
      "codemirror_mode": {
        "name": "ipython",
        "version": 3
      },
      "file_extension": ".py",
      "mimetype": "text/x-python",
      "name": "python",
      "nbconvert_exporter": "python",
      "pygments_lexer": "ipython3",
      "version": "3.10.12"
    },
    "colab": {
      "provenance": [],
      "include_colab_link": true
    }
  },
  "nbformat": 4,
  "nbformat_minor": 5
}